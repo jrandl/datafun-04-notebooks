{
 "cells": [
  {
   "cell_type": "markdown",
   "metadata": {},
   "source": [
    "# Module 4 Project Task 1-> Jupyter Notebook \n",
    "\n",
    "Author: [Josiah Randleman](https://github.com/jrandl)\n",
    "\n",
    "Repository: [datafun-04-notebooks](https://github.com/jrandl/datafun-04-notebooks)"
   ]
  },
  {
   "cell_type": "markdown",
   "metadata": {},
   "source": [
    "## Task 1 - Series "
   ]
  },
  {
   "cell_type": "code",
   "execution_count": 18,
   "metadata": {},
   "outputs": [
    {
     "name": "stdout",
     "output_type": "stream",
     "text": [
      "First grade: 87\n",
      "Count of grades: 4\n",
      "Mean of grades: 93.25\n",
      "Minimum grade: 87\n",
      "Maximum grade: 100\n",
      "Standard Deviation of grades: 5.38\n",
      "\n",
      "Full description of grades:\n",
      "count      4.000000\n",
      "mean      93.250000\n",
      "std        5.377422\n",
      "min       87.000000\n",
      "25%       90.750000\n",
      "50%       93.000000\n",
      "75%       95.500000\n",
      "max      100.000000\n",
      "dtype: float64\n"
     ]
    }
   ],
   "source": [
    "import pandas as pd\n",
    "\n",
    "# Create a pandas Series to hold exam grades\n",
    "grades = pd.Series([87, 100, 94, 92])\n",
    "\n",
    "# Access the first grade in the Series\n",
    "first_grade = grades[0]\n",
    "print(f\"First grade: {first_grade}\")\n",
    "\n",
    "# Get the number of grades in the Series\n",
    "count_of_grades = grades.count()\n",
    "print(f\"Count of grades: {count_of_grades}\")\n",
    "\n",
    "# Get the mean of the grades\n",
    "mean_of_grades = grades.mean()\n",
    "print(f\"Mean of grades: {mean_of_grades}\")\n",
    "\n",
    "# Get the minimum grade\n",
    "min_grade = grades.min()\n",
    "print(f\"Minimum grade: {min_grade}\")\n",
    "\n",
    "# Get the maximum grade\n",
    "max_grade = grades.max()\n",
    "print(f\"Maximum grade: {max_grade}\")\n",
    "\n",
    "# Get the standard deviation of the grades\n",
    "std_of_grades = grades.std()\n",
    "print(f\"Standard Deviation of grades: {std_of_grades:.2f}\")\n",
    "\n",
    "# Get a full description of the grades\n",
    "describe_grades = grades.describe()\n",
    "print(\"\\nFull description of grades:\")\n",
    "print(describe_grades)\n"
   ]
  },
  {
   "cell_type": "markdown",
   "metadata": {},
   "source": [
    "## Task 2 - Series from Dictionary"
   ]
  },
  {
   "cell_type": "code",
   "execution_count": 19,
   "metadata": {},
   "outputs": [
    {
     "name": "stdout",
     "output_type": "stream",
     "text": [
      "Eva's Grade: 100\n",
      "Walley's Grade: 87\n",
      "Data values in Series: [ 87 100  94]\n",
      "\n",
      "Temperature Statistics:\n",
      "Min Temperature is: 64\n",
      "Max Temperature is: 100\n",
      "Mean Temperature is: 80.4\n",
      "Temperature Description:\n",
      "count      5.000000\n",
      "mean      80.400000\n",
      "std       15.630099\n",
      "min       64.000000\n",
      "25%       65.000000\n",
      "50%       84.000000\n",
      "75%       89.000000\n",
      "max      100.000000\n",
      "dtype: float64\n"
     ]
    }
   ],
   "source": [
    "# Import Required Libraries\n",
    "import pandas as pd\n",
    "import numpy as np\n",
    "\n",
    "# Create a pandas Series to hold exam grades\n",
    "grades_from_list = pd.Series([87, 100, 94, 92])\n",
    "# ... (your Task 1 code and outputs here)\n",
    "\n",
    "# Create a pandas Series using a dictionary\n",
    "grades_from_dict = pd.Series({'Walley': 87, 'Eva': 100, 'Sam': 94})\n",
    "\n",
    "# Accessing individual grades\n",
    "eva_grade = grades_from_dict['Eva']\n",
    "print(f\"Eva's Grade: {eva_grade}\")\n",
    "\n",
    "walley_grade = grades_from_dict.Walley\n",
    "print(f\"Walley's Grade: {walley_grade}\")\n",
    "\n",
    "# Display array of values in the Series\n",
    "data_values = grades_from_dict.values\n",
    "print(f\"Data values in Series: {data_values}\")\n",
    "\n",
    "# Generate Random Temperatures\n",
    "temps = np.random.randint(60, 101, 5)\n",
    "temperatures = pd.Series(temps)\n",
    "\n",
    "# Display statistics for temperatures\n",
    "min_temp = temperatures.min()\n",
    "max_temp = temperatures.max()\n",
    "mean_temp = temperatures.mean()\n",
    "desc_temp = temperatures.describe()\n",
    "\n",
    "print(f\"\\nTemperature Statistics:\")\n",
    "print(f\"Min Temperature is: {min_temp}\")\n",
    "print(f\"Max Temperature is: {max_temp}\")\n",
    "print(f\"Mean Temperature is: {mean_temp}\")\n",
    "print(f\"Temperature Description:\\n{desc_temp}\")\n",
    "\n"
   ]
  }
 ],
 "metadata": {
  "kernelspec": {
   "display_name": "Python 3",
   "language": "python",
   "name": "python3"
  },
  "language_info": {
   "codemirror_mode": {
    "name": "ipython",
    "version": 3
   },
   "file_extension": ".py",
   "mimetype": "text/x-python",
   "name": "python",
   "nbconvert_exporter": "python",
   "pygments_lexer": "ipython3",
   "version": "3.11.4"
  },
  "orig_nbformat": 4
 },
 "nbformat": 4,
 "nbformat_minor": 2
}
